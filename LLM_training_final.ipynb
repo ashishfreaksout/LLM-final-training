{
 "cells": [
  {
   "cell_type": "markdown",
   "metadata": {},
   "source": [
    "# Task 1: Sentiment Labeling\n",
    "## Objective:\n",
    "To assign each employee message a sentiment label: Positive, Negative, or Neutral.\n",
    "\n",
    "## Approach:\n",
    "I used Hugging Face's transformers library, specifically the DistilBERT model:\n",
    "distilbert-base-uncased-finetuned-sst-2-english, which is fine-tuned for sentiment analysis.\n",
    "\n",
    "The model was accessed via the pipeline(\"sentiment-analysis\") method.\n",
    "\n",
    "Each message in the 'body' column was passed through this model, which returned a sentiment label.\n",
    "\n",
    "Results were stored in a new column called sentiment_result.\n",
    "\n",
    "These were then mapped into project-specific labels:\n",
    "\n",
    "'POSITIVE' → 'Positive'\n",
    "\n",
    "'NEGATIVE' → 'Negative'\n",
    "\n",
    "'Anything else' → 'Neutral'"
   ]
  },
  {
   "cell_type": "code",
   "execution_count": 29,
   "metadata": {},
   "outputs": [],
   "source": [
    "#1.Sentiment Labeling: Automatically label each message as Positive, Negative, or Neutral.\n",
    "from transformers import pipeline\n",
    "import pandas as pd\n",
    "import seaborn as sns\n",
    "import matplotlib.pyplot as plt\n",
    "from sklearn.linear_model import LinearRegression\n",
    "from sklearn.preprocessing import LabelEncoder\n",
    "from sklearn.model_selection import train_test_split\n",
    "import matplotlib.pyplot as plt\n",
    "from sklearn.metrics import r2_score, mean_squared_error\n",
    "import numpy as np\n"
   ]
  },
  {
   "cell_type": "code",
   "execution_count": 22,
   "metadata": {},
   "outputs": [
    {
     "name": "stderr",
     "output_type": "stream",
     "text": [
      "No model was supplied, defaulted to distilbert-base-uncased-finetuned-sst-2-english and revision af0f99b (https://huggingface.co/distilbert-base-uncased-finetuned-sst-2-english).\n",
      "Using a pipeline without specifying a model name and revision in production is not recommended.\n"
     ]
    }
   ],
   "source": [
    "# Load dataset\n",
    "df = pd.read_csv(r'C:\\Users\\test\\Downloads\\test.csv')\n",
    "\n",
    "# Load sentiment analysis pipeline\n",
    "sentiment_pipeline = pipeline(\"sentiment-analysis\")\n",
    "\n",
    "# Apply to all messages (batching optional for speed)\n",
    "df['sentiment_result'] = df['body'].apply(lambda x: sentiment_pipeline(x[:512])[0]['label'])\n",
    "\n",
    "# Map to desired labels\n",
    "df['sentiment_label'] = df['sentiment_result'].map({\n",
    "    'POSITIVE': 'Positive',\n",
    "    'NEGATIVE': 'Negative'\n",
    "}).fillna('Neutral')  # if any non-matching label"
   ]
  },
  {
   "cell_type": "code",
   "execution_count": null,
   "metadata": {},
   "outputs": [
    {
     "data": {
      "text/html": [
       "<div>\n",
       "<style scoped>\n",
       "    .dataframe tbody tr th:only-of-type {\n",
       "        vertical-align: middle;\n",
       "    }\n",
       "\n",
       "    .dataframe tbody tr th {\n",
       "        vertical-align: top;\n",
       "    }\n",
       "\n",
       "    .dataframe thead th {\n",
       "        text-align: right;\n",
       "    }\n",
       "</style>\n",
       "<table border=\"1\" class=\"dataframe\">\n",
       "  <thead>\n",
       "    <tr style=\"text-align: right;\">\n",
       "      <th></th>\n",
       "      <th>Subject</th>\n",
       "      <th>body</th>\n",
       "      <th>date</th>\n",
       "      <th>from</th>\n",
       "      <th>sentiment_result</th>\n",
       "      <th>sentiment_label</th>\n",
       "    </tr>\n",
       "  </thead>\n",
       "  <tbody>\n",
       "    <tr>\n",
       "      <th>0</th>\n",
       "      <td>EnronOptions Update!</td>\n",
       "      <td>EnronOptions Announcement\\n\\n\\nWe have updated...</td>\n",
       "      <td>5/10/2010</td>\n",
       "      <td>sally.beck@enron.com</td>\n",
       "      <td>NEGATIVE</td>\n",
       "      <td>Negative</td>\n",
       "    </tr>\n",
       "    <tr>\n",
       "      <th>1</th>\n",
       "      <td>(No Subject)</td>\n",
       "      <td>Marc,\\n\\nUnfortunately, today is not going to ...</td>\n",
       "      <td>7/29/2010</td>\n",
       "      <td>eric.bass@enron.com</td>\n",
       "      <td>NEGATIVE</td>\n",
       "      <td>Negative</td>\n",
       "    </tr>\n",
       "    <tr>\n",
       "      <th>2</th>\n",
       "      <td>Phone Screen  Interview - Shannon L. Burnham</td>\n",
       "      <td>When: Wednesday, June 06, 2001 10:00 AM-11:00 ...</td>\n",
       "      <td>7/25/2011</td>\n",
       "      <td>sally.beck@enron.com</td>\n",
       "      <td>NEGATIVE</td>\n",
       "      <td>Negative</td>\n",
       "    </tr>\n",
       "    <tr>\n",
       "      <th>3</th>\n",
       "      <td>RE: My new work email</td>\n",
       "      <td>we were thinking papasitos (we can meet somewh...</td>\n",
       "      <td>3/25/2010</td>\n",
       "      <td>johnny.palmer@enron.com</td>\n",
       "      <td>NEGATIVE</td>\n",
       "      <td>Negative</td>\n",
       "    </tr>\n",
       "    <tr>\n",
       "      <th>4</th>\n",
       "      <td>Bet</td>\n",
       "      <td>Since you never gave me the $20 for the last t...</td>\n",
       "      <td>5/21/2011</td>\n",
       "      <td>lydia.delgado@enron.com</td>\n",
       "      <td>POSITIVE</td>\n",
       "      <td>Positive</td>\n",
       "    </tr>\n",
       "  </tbody>\n",
       "</table>\n",
       "</div>"
      ],
      "text/plain": [
       "                                        Subject  \\\n",
       "0                          EnronOptions Update!   \n",
       "1                                  (No Subject)   \n",
       "2  Phone Screen  Interview - Shannon L. Burnham   \n",
       "3                         RE: My new work email   \n",
       "4                                           Bet   \n",
       "\n",
       "                                                body       date  \\\n",
       "0  EnronOptions Announcement\\n\\n\\nWe have updated...  5/10/2010   \n",
       "1  Marc,\\n\\nUnfortunately, today is not going to ...  7/29/2010   \n",
       "2  When: Wednesday, June 06, 2001 10:00 AM-11:00 ...  7/25/2011   \n",
       "3  we were thinking papasitos (we can meet somewh...  3/25/2010   \n",
       "4  Since you never gave me the $20 for the last t...  5/21/2011   \n",
       "\n",
       "                      from sentiment_result sentiment_label  \n",
       "0     sally.beck@enron.com         NEGATIVE        Negative  \n",
       "1      eric.bass@enron.com         NEGATIVE        Negative  \n",
       "2     sally.beck@enron.com         NEGATIVE        Negative  \n",
       "3  johnny.palmer@enron.com         NEGATIVE        Negative  \n",
       "4  lydia.delgado@enron.com         POSITIVE        Positive  "
      ]
     },
     "execution_count": 23,
     "metadata": {},
     "output_type": "execute_result"
    }
   ],
   "source": [
    "df.head()\n",
    "# Save to a new CSV file called test2.csv\n",
    "#df.to_csv('test2.csv', index=False)\n"
   ]
  },
  {
   "cell_type": "markdown",
   "metadata": {},
   "source": [
    "## Justification:\n",
    "\n",
    "This method is fast, reproducible, and requires no manual labeling.\n",
    "\n",
    "Using a pre-trained LLM ensures high-quality predictions without building a model from scratch.\n",
    "\n",
    "Mapping allows standardization to the project's desired label set."
   ]
  },
  {
   "cell_type": "markdown",
   "metadata": {},
   "source": [
    "# Task 2: Exploratory Data Analysis (EDA)\n",
    "\n",
    "## Objective:\n",
    "Understand the dataset’s structure, sentiment distribution, and engagement patterns to lay the foundation for sentiment scoring and risk analysis.\n",
    "\n"
   ]
  },
  {
   "cell_type": "code",
   "execution_count": 5,
   "metadata": {},
   "outputs": [
    {
     "name": "stdout",
     "output_type": "stream",
     "text": [
      "Shape: (2191, 6)\n"
     ]
    }
   ],
   "source": [
    "#2. Exploratory Data Analysis (EDA): Analyze and visualize the data to understand its structure and underlying trends.\n",
    "# Number of rows and columns\n",
    "print(f\"Shape: {df.shape}\")\n",
    "\n",
    "# Convert date to datetime type )\n",
    "df['date'] = pd.to_datetime(df['date'], errors='coerce')\n",
    "\n"
   ]
  },
  {
   "cell_type": "code",
   "execution_count": 6,
   "metadata": {},
   "outputs": [
    {
     "name": "stdout",
     "output_type": "stream",
     "text": [
      "\n",
      "Column Data Types:\n",
      "Subject                     object\n",
      "body                        object\n",
      "date                datetime64[ns]\n",
      "from                        object\n",
      "sentiment_result            object\n",
      "sentiment_label             object\n",
      "dtype: object\n",
      "\n",
      "Missing Values:\n",
      "Subject             0\n",
      "body                0\n",
      "date                0\n",
      "from                0\n",
      "sentiment_result    0\n",
      "sentiment_label     0\n",
      "dtype: int64\n",
      "\n",
      "Descriptive Statistics:\n",
      "             Subject   body                           date  \\\n",
      "count           2191   2191                           2191   \n",
      "unique          1251   1539                            NaN   \n",
      "top     (No Subject)  \\n\\n                             NaN   \n",
      "freq             141     21                            NaN   \n",
      "mean             NaN    NaN  2010-12-31 02:17:21.716111360   \n",
      "min              NaN    NaN            2010-01-01 00:00:00   \n",
      "25%              NaN    NaN            2010-06-30 12:00:00   \n",
      "50%              NaN    NaN            2011-01-01 00:00:00   \n",
      "75%              NaN    NaN            2011-06-30 12:00:00   \n",
      "max              NaN    NaN            2011-12-31 00:00:00   \n",
      "\n",
      "                           from sentiment_result sentiment_label  \n",
      "count                      2191             2191            2191  \n",
      "unique                       10                2               2  \n",
      "top     lydia.delgado@enron.com         NEGATIVE        Negative  \n",
      "freq                        284             1204            1204  \n",
      "mean                        NaN              NaN             NaN  \n",
      "min                         NaN              NaN             NaN  \n",
      "25%                         NaN              NaN             NaN  \n",
      "50%                         NaN              NaN             NaN  \n",
      "75%                         NaN              NaN             NaN  \n",
      "max                         NaN              NaN             NaN  \n"
     ]
    }
   ],
   "source": [
    "# 3. Print data types only (skip buggy memory usage)\n",
    "print(\"\\nColumn Data Types:\")\n",
    "print(df.dtypes)\n",
    "\n",
    "# 4. Count missing values\n",
    "print(\"\\nMissing Values:\")\n",
    "print(df.isnull().sum())\n",
    "\n",
    "# 5. Print descriptive statistics for all columns \n",
    "print(\"\\nDescriptive Statistics:\")\n",
    "print(df.describe(include='all', datetime_is_numeric=True))"
   ]
  },
  {
   "cell_type": "code",
   "execution_count": 8,
   "metadata": {},
   "outputs": [
    {
     "data": {
      "image/png": "[encoded data removed]",
      "text/plain": [
       "<Figure size 432x288 with 1 Axes>"
      ]
     },
     "metadata": {
      "needs_background": "light"
     },
     "output_type": "display_data"
    }
   ],
   "source": [
    "#sentiment distribution plot\n",
    "sns.countplot(data=df, x='sentiment_label', order=['Positive', 'Neutral', 'Negative'])\n",
    "plt.title(\"Distribution of Sentiment Labels\")\n",
    "plt.xlabel(\"Sentiment\")\n",
    "plt.ylabel(\"Count\")\n",
    "plt.show()\n"
   ]
  },
  {
   "cell_type": "markdown",
   "metadata": {},
   "source": [
    "the chart shows that almost a 1000 emails have positive sentiment while around 1200 emails have a negetive sentiment with no neutral sentiment. \n"
   ]
  },
  {
   "cell_type": "code",
   "execution_count": 10,
   "metadata": {},
   "outputs": [
    {
     "data": {
      "image/png": "[encoded data removed]",
      "text/plain": [
       "<Figure size 864x432 with 1 Axes>"
      ]
     },
     "metadata": {
      "needs_background": "light"
     },
     "output_type": "display_data"
    }
   ],
   "source": [
    "#trends over time(messages):\n",
    "df['month'] = df['date'].dt.to_period('M')  # Convert to monthly period\n",
    "\n",
    "monthly_counts = df.groupby(['month', 'sentiment_label']).size().unstack().fillna(0)\n",
    "\n",
    "monthly_counts.plot(kind='line', figsize=(12, 6), marker='o')\n",
    "plt.title(\"Monthly Sentiment Trends\")\n",
    "plt.ylabel(\"Number of Messages\")\n",
    "plt.xlabel(\"Month\")\n",
    "plt.xticks(rotation=45)\n",
    "plt.grid(True)\n",
    "plt.show()\n"
   ]
  },
  {
   "cell_type": "markdown",
   "metadata": {},
   "source": [
    "With passing of each month it is quite observant that the positive sentiment trend increases while the negetive sentiment decreases overtime."
   ]
  },
  {
   "cell_type": "code",
   "execution_count": 11,
   "metadata": {},
   "outputs": [
    {
     "data": {
      "image/png": "[encoded data removed]",
      "text/plain": [
       "<Figure size 720x360 with 1 Axes>"
      ]
     },
     "metadata": {
      "needs_background": "light"
     },
     "output_type": "display_data"
    }
   ],
   "source": [
    "# Employee Engagement (Messages per Employee)\n",
    "top_senders = df['from'].value_counts().head(10)\n",
    "\n",
    "plt.figure(figsize=(10, 5))\n",
    "sns.barplot(x=top_senders.values, y=top_senders.index)\n",
    "plt.title(\"Top 10 Employees by Message Count\")\n",
    "plt.xlabel(\"Number of Messages Sent\")\n",
    "plt.ylabel(\"Employee\")\n",
    "plt.show()\n"
   ]
  },
  {
   "cell_type": "markdown",
   "metadata": {},
   "source": [
    "The graph above shows the emails from which most of the messages were recieved ."
   ]
  },
  {
   "cell_type": "markdown",
   "metadata": {},
   "source": [
    "# Task 3: Employee Score Calculation\n",
    "## Objective:\n",
    "Quantify each employee’s overall sentiment trend by computing a monthly sentiment score derived from their messages.\n",
    "\n",
    "## Methodology:\n",
    "A sentiment score is assigned to each message using the following scheme:\n",
    "\n",
    "Positive → +1\n",
    "\n",
    "Negative → –1\n",
    "\n",
    "Neutral → 0\n",
    "\n",
    "Each employee’s messages are grouped by month using the date column (converted to a monthly period).\n",
    "\n",
    "Sentiment scores are aggregated per employee per month.\n",
    "\n",
    "This aggregated score represents how positively or negatively engaged an employee was during that month."
   ]
  },
  {
   "cell_type": "code",
   "execution_count": 12,
   "metadata": {},
   "outputs": [],
   "source": [
    "#1. Assign sentiment scores\n",
    "sentiment_scores = {\n",
    "    'Positive': 1,\n",
    "    'Negative': -1,\n",
    "    'Neutral': 0\n",
    "}\n",
    "\n",
    "df['sentiment_score'] = df['sentiment_label'].map(sentiment_scores)\n"
   ]
  },
  {
   "cell_type": "code",
   "execution_count": 14,
   "metadata": {},
   "outputs": [],
   "source": [
    "#Group by employee (from) and month, then aggregate\n",
    "monthly_scores = df.groupby(['from', df['date'].dt.to_period('M')])['sentiment_score'].sum().reset_index()\n",
    "monthly_scores.rename(columns={'date': 'month'}, inplace=True)\n"
   ]
  },
  {
   "cell_type": "code",
   "execution_count": 15,
   "metadata": {},
   "outputs": [
    {
     "data": {
      "text/html": [
       "<div>\n",
       "<style scoped>\n",
       "    .dataframe tbody tr th:only-of-type {\n",
       "        vertical-align: middle;\n",
       "    }\n",
       "\n",
       "    .dataframe tbody tr th {\n",
       "        vertical-align: top;\n",
       "    }\n",
       "\n",
       "    .dataframe thead th {\n",
       "        text-align: right;\n",
       "    }\n",
       "</style>\n",
       "<table border=\"1\" class=\"dataframe\">\n",
       "  <thead>\n",
       "    <tr style=\"text-align: right;\">\n",
       "      <th></th>\n",
       "      <th>from</th>\n",
       "      <th>month</th>\n",
       "      <th>sentiment_score</th>\n",
       "    </tr>\n",
       "  </thead>\n",
       "  <tbody>\n",
       "    <tr>\n",
       "      <th>0</th>\n",
       "      <td>bobette.riner@ipgdirect.com</td>\n",
       "      <td>2010-01</td>\n",
       "      <td>-2</td>\n",
       "    </tr>\n",
       "    <tr>\n",
       "      <th>1</th>\n",
       "      <td>bobette.riner@ipgdirect.com</td>\n",
       "      <td>2010-02</td>\n",
       "      <td>-2</td>\n",
       "    </tr>\n",
       "    <tr>\n",
       "      <th>2</th>\n",
       "      <td>bobette.riner@ipgdirect.com</td>\n",
       "      <td>2010-03</td>\n",
       "      <td>-3</td>\n",
       "    </tr>\n",
       "    <tr>\n",
       "      <th>3</th>\n",
       "      <td>bobette.riner@ipgdirect.com</td>\n",
       "      <td>2010-04</td>\n",
       "      <td>-2</td>\n",
       "    </tr>\n",
       "    <tr>\n",
       "      <th>4</th>\n",
       "      <td>bobette.riner@ipgdirect.com</td>\n",
       "      <td>2010-05</td>\n",
       "      <td>2</td>\n",
       "    </tr>\n",
       "  </tbody>\n",
       "</table>\n",
       "</div>"
      ],
      "text/plain": [
       "                          from    month  sentiment_score\n",
       "0  bobette.riner@ipgdirect.com  2010-01               -2\n",
       "1  bobette.riner@ipgdirect.com  2010-02               -2\n",
       "2  bobette.riner@ipgdirect.com  2010-03               -3\n",
       "3  bobette.riner@ipgdirect.com  2010-04               -2\n",
       "4  bobette.riner@ipgdirect.com  2010-05                2"
      ]
     },
     "execution_count": 15,
     "metadata": {},
     "output_type": "execute_result"
    }
   ],
   "source": [
    "monthly_scores.head()\n"
   ]
  },
  {
   "cell_type": "markdown",
   "metadata": {},
   "source": [
    " ## Outcome:\n",
    "A new DataFrame is created showing each employee’s sentiment score for every month they sent a message. This forms the foundation for identifying top performers, negative trends, and potential flight risks in future tasks.\n",
    "\n"
   ]
  },
  {
   "cell_type": "markdown",
   "metadata": {},
   "source": [
    "# Task 4: Employee Ranking\n",
    "## Objective:\n",
    "Identify the most engaged (and potentially disengaged) employees based on their monthly sentiment scores.\n",
    "\n",
    "## Methodology:\n",
    "For each month:\n",
    "\n",
    "Find the Top 3 Positive Employees (highest sentiment scores).\n",
    "\n",
    "Find the Top 3 Negative Employees (lowest sentiment scores).\n",
    "\n",
    "If there’s a tie, sort alphabetically by employee name.\n",
    "\n",
    "Rankings are presented in a tabular or visual format."
   ]
  },
  {
   "cell_type": "code",
   "execution_count": 17,
   "metadata": {},
   "outputs": [
    {
     "name": "stdout",
     "output_type": "stream",
     "text": [
      "Top 3 Positive Employees per Month:\n",
      "                         from    month  sentiment_score\n",
      "72      john.arnold@enron.com  2010-01                3\n",
      "96    johnny.palmer@enron.com  2010-01                0\n",
      "192   rhonda.denton@enron.com  2010-01               -1\n",
      "25     don.baughman@enron.com  2010-02                3\n",
      "145   lydia.delgado@enron.com  2010-02                1\n",
      "..                        ...      ...              ...\n",
      "46     don.baughman@enron.com  2011-11                2\n",
      "70        eric.bass@enron.com  2011-11                1\n",
      "71        eric.bass@enron.com  2011-12                5\n",
      "95      john.arnold@enron.com  2011-12                2\n",
      "191  patti.thompson@enron.com  2011-12                2\n",
      "\n",
      "[72 rows x 3 columns]\n",
      "\n",
      "Top 3 Negative Employees per Month:\n",
      "                            from    month  sentiment_score\n",
      "120      kayne.coulter@enron.com  2010-01               -6\n",
      "216         sally.beck@enron.com  2010-01               -5\n",
      "48           eric.bass@enron.com  2010-01               -4\n",
      "121      kayne.coulter@enron.com  2010-02               -6\n",
      "1    bobette.riner@ipgdirect.com  2010-02               -2\n",
      "..                           ...      ...              ...\n",
      "22   bobette.riner@ipgdirect.com  2011-11               -4\n",
      "142      kayne.coulter@enron.com  2011-11               -4\n",
      "23   bobette.riner@ipgdirect.com  2011-12               -3\n",
      "47        don.baughman@enron.com  2011-12               -3\n",
      "143      kayne.coulter@enron.com  2011-12               -3\n",
      "\n",
      "[72 rows x 3 columns]\n"
     ]
    }
   ],
   "source": [
    "# Top 3 Positive Employees per month\n",
    "top_positive = (\n",
    "    monthly_scores\n",
    "    .sort_values(['month', 'sentiment_score', 'from'], ascending=[True, False, True])\n",
    "    .groupby('month')\n",
    "    .head(3)\n",
    ")\n",
    "\n",
    "# 3. Top 3 Negative Employees per month\n",
    "top_negative = (\n",
    "    monthly_scores\n",
    "    .sort_values(['month', 'sentiment_score', 'from'], ascending=[True, True, True])\n",
    "    .groupby('month')\n",
    "    .head(3)\n",
    ")\n",
    "\n",
    "# Display\n",
    "print(\"Top 3 Positive Employees per Month:\")\n",
    "print(top_positive)\n",
    "\n",
    "print(\"\\nTop 3 Negative Employees per Month:\")\n",
    "print(top_negative)"
   ]
  },
  {
   "cell_type": "markdown",
   "metadata": {},
   "source": [
    "## Observation:\n",
    "The output shows the most top 3 positive/negetive employes from each month. Each month has 3 so a total of 3x24x2 months total of 72 observations."
   ]
  },
  {
   "cell_type": "markdown",
   "metadata": {},
   "source": [
    "# Task 5: Flight Risk Identification\n",
    "## Objective:\n",
    "Identify employees who might be at risk of leaving the organization, based on their negative sentiment.\n",
    "\n",
    "## Definition:\n",
    "Any employee who has sent 4 or more negative messages in a single month is considered a Flight Risk.\n",
    "\n",
    "## Steps to Implement:\n",
    "Filter the original dataframe for only messages labeled \"Negative\".\n",
    "\n",
    "Group by from (employee email) and month.\n",
    "\n",
    "Count the number of negative messages per employee per month.\n",
    "\n",
    "Filter the groups where count ≥ 4 → mark those as Flight Risks."
   ]
  },
  {
   "cell_type": "code",
   "execution_count": 18,
   "metadata": {},
   "outputs": [
    {
     "name": "stdout",
     "output_type": "stream",
     "text": [
      "Flight Risk Employees (>=4 negative messages in a month):\n"
     ]
    },
    {
     "data": {
      "text/html": [
       "<div>\n",
       "<style scoped>\n",
       "    .dataframe tbody tr th:only-of-type {\n",
       "        vertical-align: middle;\n",
       "    }\n",
       "\n",
       "    .dataframe tbody tr th {\n",
       "        vertical-align: top;\n",
       "    }\n",
       "\n",
       "    .dataframe thead th {\n",
       "        text-align: right;\n",
       "    }\n",
       "</style>\n",
       "<table border=\"1\" class=\"dataframe\">\n",
       "  <thead>\n",
       "    <tr style=\"text-align: right;\">\n",
       "      <th></th>\n",
       "      <th>from</th>\n",
       "      <th>month</th>\n",
       "      <th>negative_msg_count</th>\n",
       "    </tr>\n",
       "  </thead>\n",
       "  <tbody>\n",
       "    <tr>\n",
       "      <th>1</th>\n",
       "      <td>bobette.riner@ipgdirect.com</td>\n",
       "      <td>2010-02</td>\n",
       "      <td>8</td>\n",
       "    </tr>\n",
       "    <tr>\n",
       "      <th>2</th>\n",
       "      <td>bobette.riner@ipgdirect.com</td>\n",
       "      <td>2010-03</td>\n",
       "      <td>7</td>\n",
       "    </tr>\n",
       "    <tr>\n",
       "      <th>3</th>\n",
       "      <td>bobette.riner@ipgdirect.com</td>\n",
       "      <td>2010-04</td>\n",
       "      <td>4</td>\n",
       "    </tr>\n",
       "    <tr>\n",
       "      <th>6</th>\n",
       "      <td>bobette.riner@ipgdirect.com</td>\n",
       "      <td>2010-07</td>\n",
       "      <td>6</td>\n",
       "    </tr>\n",
       "    <tr>\n",
       "      <th>7</th>\n",
       "      <td>bobette.riner@ipgdirect.com</td>\n",
       "      <td>2010-08</td>\n",
       "      <td>7</td>\n",
       "    </tr>\n",
       "    <tr>\n",
       "      <th>...</th>\n",
       "      <td>...</td>\n",
       "      <td>...</td>\n",
       "      <td>...</td>\n",
       "    </tr>\n",
       "    <tr>\n",
       "      <th>219</th>\n",
       "      <td>sally.beck@enron.com</td>\n",
       "      <td>2011-05</td>\n",
       "      <td>5</td>\n",
       "    </tr>\n",
       "    <tr>\n",
       "      <th>220</th>\n",
       "      <td>sally.beck@enron.com</td>\n",
       "      <td>2011-07</td>\n",
       "      <td>6</td>\n",
       "    </tr>\n",
       "    <tr>\n",
       "      <th>221</th>\n",
       "      <td>sally.beck@enron.com</td>\n",
       "      <td>2011-08</td>\n",
       "      <td>9</td>\n",
       "    </tr>\n",
       "    <tr>\n",
       "      <th>224</th>\n",
       "      <td>sally.beck@enron.com</td>\n",
       "      <td>2011-11</td>\n",
       "      <td>4</td>\n",
       "    </tr>\n",
       "    <tr>\n",
       "      <th>225</th>\n",
       "      <td>sally.beck@enron.com</td>\n",
       "      <td>2011-12</td>\n",
       "      <td>4</td>\n",
       "    </tr>\n",
       "  </tbody>\n",
       "</table>\n",
       "<p>143 rows × 3 columns</p>\n",
       "</div>"
      ],
      "text/plain": [
       "                            from    month  negative_msg_count\n",
       "1    bobette.riner@ipgdirect.com  2010-02                   8\n",
       "2    bobette.riner@ipgdirect.com  2010-03                   7\n",
       "3    bobette.riner@ipgdirect.com  2010-04                   4\n",
       "6    bobette.riner@ipgdirect.com  2010-07                   6\n",
       "7    bobette.riner@ipgdirect.com  2010-08                   7\n",
       "..                           ...      ...                 ...\n",
       "219         sally.beck@enron.com  2011-05                   5\n",
       "220         sally.beck@enron.com  2011-07                   6\n",
       "221         sally.beck@enron.com  2011-08                   9\n",
       "224         sally.beck@enron.com  2011-11                   4\n",
       "225         sally.beck@enron.com  2011-12                   4\n",
       "\n",
       "[143 rows x 3 columns]"
      ]
     },
     "metadata": {},
     "output_type": "display_data"
    }
   ],
   "source": [
    "# Step 1: Filter negative messages\n",
    "negative_msgs = df[df['sentiment_label'] == 'Negative']\n",
    "\n",
    "# Step 2: Count negative messages per employee per month\n",
    "flight_risk_counts = (\n",
    "    negative_msgs\n",
    "    .groupby(['from', 'month'])\n",
    "    .size()\n",
    "    .reset_index(name='negative_msg_count')\n",
    ")\n",
    "\n",
    "# Step 3: Identify employees with 4 or more negative messages\n",
    "flight_risks = flight_risk_counts[flight_risk_counts['negative_msg_count'] >= 4]\n",
    "\n",
    "# Show the flight risk employees\n",
    "print(\"Flight Risk Employees (>=4 negative messages in a month):\")\n",
    "display(flight_risks)\n"
   ]
  },
  {
   "cell_type": "markdown",
   "metadata": {},
   "source": [
    "The employees with emails in the result above have more than 4 negetive emails and are at risk of leaving the organization."
   ]
  },
  {
   "cell_type": "markdown",
   "metadata": {},
   "source": [
    "# Task 6: Predictive Modeling\n",
    "## Objective:\n",
    "Build a Linear Regression model to analyze and predict trends in employee sentiment over time.\n",
    "\n",
    "## Steps to Implement:\n",
    "Feature Selection:\n",
    "To predict sentiment trends, we engineered the following independent variables:\n",
    "\n",
    "msg_count: Number of messages sent by each employee per month.\n",
    "\n",
    "msg_length: Average length of messages.\n",
    "\n",
    "word_count: Average number of words per message.\n",
    "\n",
    "employee_id: Encoded employee email addresses.\n",
    "\n",
    "month_num: Timestamp of the message month (numeric format for modeling).\n",
    "\n",
    "Target Variable:\n",
    "\n",
    "sentiment_score: Computed as the net monthly sentiment score per employee (Positive = +1, Negative = -1, Neutral = 0).\n",
    "\n",
    "Data Preparation:\n",
    "\n",
    "Parsed the date column and grouped the dataset by employee and month.\n",
    "\n",
    "Aggregated message features and assigned sentiment scores based on the labels.\n",
    "\n",
    "Model Training:\n",
    "\n",
    "Split the dataset into training and testing sets (80/20).\n",
    "\n",
    "Used Linear Regression from sklearn to model the relationship between features and sentiment scores.\n",
    "\n",
    "Evaluation Metrics:\n",
    "\n",
    "R² Score: Measures the proportion of variance in the target explained by the features.\n",
    "\n",
    "RMSE (Root Mean Squared Error): Evaluates the prediction accuracy of the model."
   ]
  },
  {
   "cell_type": "code",
   "execution_count": 30,
   "metadata": {},
   "outputs": [
    {
     "name": "stdout",
     "output_type": "stream",
     "text": [
      "R² Score: -0.015795880539922535\n",
      "RMSE: 2.90938563747354\n"
     ]
    }
   ],
   "source": [
    "# Load the updated dataset\n",
    "df = pd.read_csv(r'C:\\Users\\test\\Downloads/test2.csv')\n",
    "# Convert date to datetime\n",
    "df['date'] = pd.to_datetime(df['date'], errors='coerce')\n",
    "\n",
    "# Create features\n",
    "df['month'] = df['date'].dt.to_period('M').astype(str)\n",
    "df['msg_length'] = df['body'].astype(str).apply(len)\n",
    "df['word_count'] = df['body'].astype(str).apply(lambda x: len(x.split()))\n",
    "\n",
    "# Assign sentiment scores\n",
    "sentiment_map = {'Positive': 1, 'Negative': -1, 'Neutral': 0}\n",
    "df['sentiment_score'] = df['sentiment_label'].map(sentiment_map)\n",
    "\n",
    "# Aggregate monthly stats per employee\n",
    "monthly_df = df.groupby(['from', 'month']).agg({\n",
    "    'sentiment_score': 'sum',\n",
    "    'msg_length': 'mean',\n",
    "    'word_count': 'mean',\n",
    "    'body': 'count'  # total messages\n",
    "}).reset_index()\n",
    "\n",
    "monthly_df.rename(columns={'body': 'msg_count'}, inplace=True)\n",
    "\n",
    "# Encode employee emails as numbers\n",
    "monthly_df['employee_id'] = monthly_df['from'].astype('category').cat.codes\n",
    "\n",
    "monthly_df['month_num'] = pd.to_datetime(monthly_df['month']).view('int64') // 10**9\n",
    "\n",
    "\n",
    "# Features and target\n",
    "X = monthly_df[['employee_id', 'month_num', 'msg_count', 'msg_length', 'word_count']]\n",
    "y = monthly_df['sentiment_score']\n",
    "\n",
    "# Train-test split\n",
    "X_train, X_test, y_train, y_test = train_test_split(X, y, test_size=0.2, random_state=42)\n",
    "\n",
    "# Fit model\n",
    "model = LinearRegression()\n",
    "model.fit(X_train, y_train)\n",
    "\n",
    "# Predict and evaluate\n",
    "y_pred = model.predict(X_test)\n",
    "\n",
    "print(\"R² Score:\", r2_score(y_test, y_pred))\n",
    "print(\"RMSE:\", np.sqrt(mean_squared_error(y_test, y_pred)))\n"
   ]
  },
  {
   "cell_type": "code",
   "execution_count": 31,
   "metadata": {},
   "outputs": [
    {
     "data": {
      "image/png": "[encoded data removed]",
      "text/plain": [
       "<Figure size 576x432 with 1 Axes>"
      ]
     },
     "metadata": {
      "needs_background": "light"
     },
     "output_type": "display_data"
    }
   ],
   "source": [
    "\n",
    "plt.figure(figsize=(8, 6))\n",
    "plt.scatter(y_test, y_pred, alpha=0.6, color='blue')\n",
    "plt.plot([y.min(), y.max()], [y.min(), y.max()], 'r--')  # 45-degree line\n",
    "plt.xlabel(\"Actual Sentiment Score\")\n",
    "plt.ylabel(\"Predicted Sentiment Score\")\n",
    "plt.title(\"Actual vs. Predicted Sentiment Scores\")\n",
    "plt.grid(True)\n",
    "plt.tight_layout()\n",
    "plt.show()\n"
   ]
  },
  {
   "cell_type": "markdown",
   "metadata": {},
   "source": [
    "# Observations:\n",
    "A sentiment labeling pipeline was successfully applied using a transformer-based model (distilbert-base-uncased-finetuned-sst-2-english), producing categorized messages as Positive, Negative, or Neutral.\n",
    "\n",
    "EDA revealed that the majority of employee messages were either Neutral or Positive, with relatively fewer Negative messages.\n",
    "\n",
    "Monthly sentiment scores were computed per employee, allowing us to rank top positive and negative contributors and flag potential flight risks.\n",
    "\n",
    "A linear regression model was developed using engineered features such as message count, average message length, and word count to predict sentiment trends.\n",
    "\n",
    "## Model Performance:\n",
    "The regression model yielded a very low R² score (-0.016) and a relatively high RMSE (~2.91), indicating that the current features and model are insufficient for accurately predicting sentiment trends.\n",
    "\n",
    "The plot of predicted vs. actual values showed a tight horizontal clustering, reinforcing that the model was unable to learn meaningful relationships."
   ]
  },
  {
   "cell_type": "markdown",
   "metadata": {},
   "source": [
    "# Future Work:\n",
    "## Feature Enhancement:\n",
    "\n",
    "Incorporate more semantic features from the text using NLP techniques like:\n",
    "\n",
    "Sentiment polarity (TextBlob or VADER)\n",
    "\n",
    "TF-IDF vectorization\n",
    "\n",
    "Keyword frequency or emotional tone detection\n",
    "\n",
    "## Model Improvement:\n",
    "\n",
    "Experiment with more powerful models such as Random Forest, XGBoost, or LSTM-based deep learning models for sequential patterns.\n",
    "\n",
    "## Data Expansion:\n",
    "\n",
    "Train on a larger dataset across more employees and time periods to improve model generalization.\n",
    "\n",
    "Real-Time Monitoring:\n",
    "\n",
    "Extend the system to flag high-risk employees dynamically and alert HR using updated sentiment trends monthly or weekly."
   ]
  }
 ],
 "metadata": {
  "kernelspec": {
   "display_name": "base",
   "language": "python",
   "name": "python3"
  },
  "language_info": {
   "codemirror_mode": {
    "name": "ipython",
    "version": 3
   },
   "file_extension": ".py",
   "mimetype": "text/x-python",
   "name": "python",
   "nbconvert_exporter": "python",
   "pygments_lexer": "ipython3",
   "version": "3.7.3"
  }
 },
 "nbformat": 4,
 "nbformat_minor": 2
}
